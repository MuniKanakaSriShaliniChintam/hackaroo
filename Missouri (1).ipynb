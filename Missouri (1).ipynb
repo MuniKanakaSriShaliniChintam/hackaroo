{
  "nbformat": 4,
  "nbformat_minor": 0,
  "metadata": {
    "colab": {
      "name": "Missouri.ipynb",
      "provenance": [],
      "collapsed_sections": []
    },
    "kernelspec": {
      "display_name": "Python 3",
      "name": "python3"
    },
    "language_info": {
      "name": "python"
    }
  },
  "cells": [
    {
      "cell_type": "code",
      "metadata": {
        "colab": {
          "base_uri": "https://localhost:8080/",
          "height": 550
        },
        "id": "XUHvq3cClcnQ",
        "outputId": "addf9b0f-99cd-45b3-d3ea-a6b9de2fd2fb"
      },
      "source": [
        "!pip3 uninstall statsmodels\n",
        "!pip3 install numpy scipy patsy pandas\n",
        "!pip3 install statsmodels\n"
      ],
      "execution_count": 247,
      "outputs": [
        {
          "output_type": "stream",
          "name": "stdout",
          "text": [
            "Found existing installation: statsmodels 0.13.1\n",
            "Uninstalling statsmodels-0.13.1:\n",
            "  Would remove:\n",
            "    /usr/local/lib/python3.7/dist-packages/statsmodels-0.13.1.dist-info/*\n",
            "    /usr/local/lib/python3.7/dist-packages/statsmodels/*\n",
            "Proceed (y/n)? y\n",
            "  Successfully uninstalled statsmodels-0.13.1\n",
            "Requirement already satisfied: numpy in /usr/local/lib/python3.7/dist-packages (1.19.5)\n",
            "Requirement already satisfied: scipy in /usr/local/lib/python3.7/dist-packages (1.4.1)\n",
            "Requirement already satisfied: patsy in /usr/local/lib/python3.7/dist-packages (0.5.2)\n",
            "Requirement already satisfied: pandas in /usr/local/lib/python3.7/dist-packages (1.1.5)\n",
            "Requirement already satisfied: six in /usr/local/lib/python3.7/dist-packages (from patsy) (1.15.0)\n",
            "Requirement already satisfied: pytz>=2017.2 in /usr/local/lib/python3.7/dist-packages (from pandas) (2018.9)\n",
            "Requirement already satisfied: python-dateutil>=2.7.3 in /usr/local/lib/python3.7/dist-packages (from pandas) (2.8.2)\n",
            "Collecting statsmodels\n",
            "  Using cached statsmodels-0.13.1-cp37-cp37m-manylinux_2_17_x86_64.manylinux2014_x86_64.whl (9.8 MB)\n",
            "Requirement already satisfied: patsy>=0.5.2 in /usr/local/lib/python3.7/dist-packages (from statsmodels) (0.5.2)\n",
            "Requirement already satisfied: scipy>=1.3 in /usr/local/lib/python3.7/dist-packages (from statsmodels) (1.4.1)\n",
            "Requirement already satisfied: pandas>=0.25 in /usr/local/lib/python3.7/dist-packages (from statsmodels) (1.1.5)\n",
            "Requirement already satisfied: numpy>=1.17 in /usr/local/lib/python3.7/dist-packages (from statsmodels) (1.19.5)\n",
            "Requirement already satisfied: python-dateutil>=2.7.3 in /usr/local/lib/python3.7/dist-packages (from pandas>=0.25->statsmodels) (2.8.2)\n",
            "Requirement already satisfied: pytz>=2017.2 in /usr/local/lib/python3.7/dist-packages (from pandas>=0.25->statsmodels) (2018.9)\n",
            "Requirement already satisfied: six in /usr/local/lib/python3.7/dist-packages (from patsy>=0.5.2->statsmodels) (1.15.0)\n",
            "Installing collected packages: statsmodels\n",
            "Successfully installed statsmodels-0.13.1\n"
          ]
        },
        {
          "output_type": "display_data",
          "data": {
            "application/vnd.colab-display-data+json": {
              "pip_warning": {
                "packages": [
                  "statsmodels"
                ]
              }
            }
          },
          "metadata": {}
        }
      ]
    },
    {
      "cell_type": "code",
      "metadata": {
        "id": "ff2wnyz8_IRE",
        "colab": {
          "base_uri": "https://localhost:8080/"
        },
        "outputId": "404e9570-2508-41ff-ba7a-6e3d21280056"
      },
      "source": [
        "!pip install patsy\n",
        "import statsmodels.api as sm"
      ],
      "execution_count": 248,
      "outputs": [
        {
          "output_type": "stream",
          "name": "stdout",
          "text": [
            "Requirement already satisfied: patsy in /usr/local/lib/python3.7/dist-packages (0.5.2)\n",
            "Requirement already satisfied: six in /usr/local/lib/python3.7/dist-packages (from patsy) (1.15.0)\n",
            "Requirement already satisfied: numpy>=1.4 in /usr/local/lib/python3.7/dist-packages (from patsy) (1.19.5)\n"
          ]
        }
      ]
    },
    {
      "cell_type": "code",
      "metadata": {
        "id": "asie91o8kjcX"
      },
      "source": [
        "import pandas as pd\n",
        "import numpy as np\n",
        "import matplotlib.pyplot as plt\n",
        "from statsmodels.tsa.arima.model import ARIMA\n",
        "\n",
        "from sklearn.preprocessing import StandardScaler\n",
        "from datetime import timedelta"
      ],
      "execution_count": 249,
      "outputs": []
    },
    {
      "cell_type": "code",
      "metadata": {
        "id": "yAW6pxtak3bk"
      },
      "source": [
        "url = 'https://raw.githubusercontent.com/Sai-Kumar-Gorre/Web-and-Mobile/main/us_state_vaccinations%204.csv'\n",
        "df = pd.read_csv(url)"
      ],
      "execution_count": 250,
      "outputs": []
    },
    {
      "cell_type": "code",
      "metadata": {
        "id": "hAgJCxDHneXV",
        "colab": {
          "base_uri": "https://localhost:8080/",
          "height": 305
        },
        "outputId": "f9c0b41e-9054-4d8e-cf58-a30ad756dcb7"
      },
      "source": [
        "df.head()"
      ],
      "execution_count": 251,
      "outputs": [
        {
          "output_type": "execute_result",
          "data": {
            "text/html": [
              "<div>\n",
              "<style scoped>\n",
              "    .dataframe tbody tr th:only-of-type {\n",
              "        vertical-align: middle;\n",
              "    }\n",
              "\n",
              "    .dataframe tbody tr th {\n",
              "        vertical-align: top;\n",
              "    }\n",
              "\n",
              "    .dataframe thead th {\n",
              "        text-align: right;\n",
              "    }\n",
              "</style>\n",
              "<table border=\"1\" class=\"dataframe\">\n",
              "  <thead>\n",
              "    <tr style=\"text-align: right;\">\n",
              "      <th></th>\n",
              "      <th>date</th>\n",
              "      <th>location</th>\n",
              "      <th>total_vaccinations</th>\n",
              "      <th>total_distributed</th>\n",
              "      <th>people_vaccinated</th>\n",
              "      <th>people_fully_vaccinated_per_hundred</th>\n",
              "      <th>total_vaccinations_per_hundred</th>\n",
              "      <th>people_fully_vaccinated</th>\n",
              "      <th>people_vaccinated_per_hundred</th>\n",
              "      <th>distributed_per_hundred</th>\n",
              "      <th>daily_vaccinations_raw</th>\n",
              "      <th>daily_vaccinations</th>\n",
              "      <th>daily_vaccinations_per_million</th>\n",
              "      <th>share_doses_used</th>\n",
              "    </tr>\n",
              "  </thead>\n",
              "  <tbody>\n",
              "    <tr>\n",
              "      <th>0</th>\n",
              "      <td>2021-01-12</td>\n",
              "      <td>Alabama</td>\n",
              "      <td>78134.0</td>\n",
              "      <td>377025.0</td>\n",
              "      <td>70861.0</td>\n",
              "      <td>0.15</td>\n",
              "      <td>1.59</td>\n",
              "      <td>7270.0</td>\n",
              "      <td>1.45</td>\n",
              "      <td>7.69</td>\n",
              "      <td>NaN</td>\n",
              "      <td>NaN</td>\n",
              "      <td>NaN</td>\n",
              "      <td>0.207</td>\n",
              "    </tr>\n",
              "    <tr>\n",
              "      <th>1</th>\n",
              "      <td>2021-01-13</td>\n",
              "      <td>Alabama</td>\n",
              "      <td>84040.0</td>\n",
              "      <td>378975.0</td>\n",
              "      <td>74792.0</td>\n",
              "      <td>0.19</td>\n",
              "      <td>1.71</td>\n",
              "      <td>9245.0</td>\n",
              "      <td>1.53</td>\n",
              "      <td>7.73</td>\n",
              "      <td>5906.0</td>\n",
              "      <td>5906.0</td>\n",
              "      <td>1205.0</td>\n",
              "      <td>0.222</td>\n",
              "    </tr>\n",
              "    <tr>\n",
              "      <th>2</th>\n",
              "      <td>2021-01-14</td>\n",
              "      <td>Alabama</td>\n",
              "      <td>92300.0</td>\n",
              "      <td>435350.0</td>\n",
              "      <td>80480.0</td>\n",
              "      <td>NaN</td>\n",
              "      <td>1.88</td>\n",
              "      <td>NaN</td>\n",
              "      <td>1.64</td>\n",
              "      <td>8.88</td>\n",
              "      <td>8260.0</td>\n",
              "      <td>7083.0</td>\n",
              "      <td>1445.0</td>\n",
              "      <td>0.212</td>\n",
              "    </tr>\n",
              "    <tr>\n",
              "      <th>3</th>\n",
              "      <td>2021-01-15</td>\n",
              "      <td>Alabama</td>\n",
              "      <td>100567.0</td>\n",
              "      <td>444650.0</td>\n",
              "      <td>86956.0</td>\n",
              "      <td>0.28</td>\n",
              "      <td>2.05</td>\n",
              "      <td>13488.0</td>\n",
              "      <td>1.77</td>\n",
              "      <td>9.07</td>\n",
              "      <td>8267.0</td>\n",
              "      <td>7478.0</td>\n",
              "      <td>1525.0</td>\n",
              "      <td>0.226</td>\n",
              "    </tr>\n",
              "    <tr>\n",
              "      <th>4</th>\n",
              "      <td>2021-01-16</td>\n",
              "      <td>Alabama</td>\n",
              "      <td>NaN</td>\n",
              "      <td>NaN</td>\n",
              "      <td>NaN</td>\n",
              "      <td>NaN</td>\n",
              "      <td>NaN</td>\n",
              "      <td>NaN</td>\n",
              "      <td>NaN</td>\n",
              "      <td>NaN</td>\n",
              "      <td>NaN</td>\n",
              "      <td>7498.0</td>\n",
              "      <td>1529.0</td>\n",
              "      <td>NaN</td>\n",
              "    </tr>\n",
              "  </tbody>\n",
              "</table>\n",
              "</div>"
            ],
            "text/plain": [
              "         date location  ...  daily_vaccinations_per_million  share_doses_used\n",
              "0  2021-01-12  Alabama  ...                             NaN             0.207\n",
              "1  2021-01-13  Alabama  ...                          1205.0             0.222\n",
              "2  2021-01-14  Alabama  ...                          1445.0             0.212\n",
              "3  2021-01-15  Alabama  ...                          1525.0             0.226\n",
              "4  2021-01-16  Alabama  ...                          1529.0               NaN\n",
              "\n",
              "[5 rows x 14 columns]"
            ]
          },
          "metadata": {},
          "execution_count": 251
        }
      ]
    },
    {
      "cell_type": "code",
      "metadata": {
        "id": "K8r3zvW8nigm"
      },
      "source": [
        "df.columns\n",
        "df['date'] = pd.to_datetime(df['date'])"
      ],
      "execution_count": 252,
      "outputs": []
    },
    {
      "cell_type": "markdown",
      "metadata": {
        "id": "dOWHZpJrnl4L"
      },
      "source": [
        "df = df.drop([ 'total_distributed','total_vaccinations'\n",
        "       'people_vaccinated', 'people_fully_vaccinated_per_hundred', 'people_fully_vaccinated',\n",
        "       'people_vaccinated_per_hundred', 'distributed_per_hundred','daily_vaccinations_raw', 'daily_vaccinations', 'daily_vaccinations_per_million', 'share_doses_used'], axis=1)\n",
        "\n",
        "\n"
      ]
    },
    {
      "cell_type": "code",
      "metadata": {
        "id": "vFzOL8nmDMVX"
      },
      "source": [
        "df = df.drop([ 'total_distributed','total_vaccinations', 'people_vaccinated', 'people_fully_vaccinated', 'total_vaccinations_per_hundred', 'distributed_per_hundred','daily_vaccinations_raw', 'daily_vaccinations', 'daily_vaccinations_per_million', 'share_doses_used'], axis=1)"
      ],
      "execution_count": 253,
      "outputs": []
    },
    {
      "cell_type": "markdown",
      "metadata": {
        "id": "PXve7suP23dP"
      },
      "source": [
        ""
      ]
    },
    {
      "cell_type": "code",
      "metadata": {
        "id": "ZXmC51A5qOh_"
      },
      "source": [
        ""
      ],
      "execution_count": 253,
      "outputs": []
    },
    {
      "cell_type": "code",
      "metadata": {
        "id": "_-C7Mv9CqP-r",
        "colab": {
          "base_uri": "https://localhost:8080/"
        },
        "outputId": "8d32590e-4594-4746-b009-49840ced783e"
      },
      "source": [
        "df.head"
      ],
      "execution_count": 254,
      "outputs": [
        {
          "output_type": "execute_result",
          "data": {
            "text/plain": [
              "<bound method NDFrame.head of             date  ... people_vaccinated_per_hundred\n",
              "0     2021-01-12  ...                          1.45\n",
              "1     2021-01-13  ...                          1.53\n",
              "2     2021-01-14  ...                          1.64\n",
              "3     2021-01-15  ...                          1.77\n",
              "4     2021-01-16  ...                           NaN\n",
              "...          ...  ...                           ...\n",
              "18779 2021-10-31  ...                         50.85\n",
              "18780 2021-11-01  ...                         50.86\n",
              "18781 2021-11-02  ...                         51.09\n",
              "18782 2021-11-03  ...                         51.17\n",
              "18783 2021-11-04  ...                         51.20\n",
              "\n",
              "[18784 rows x 4 columns]>"
            ]
          },
          "metadata": {},
          "execution_count": 254
        }
      ]
    },
    {
      "cell_type": "code",
      "metadata": {
        "id": "oN_XdDeRqbbF"
      },
      "source": [
        "df_missouri = df[df['location']=='Missouri']"
      ],
      "execution_count": 255,
      "outputs": []
    },
    {
      "cell_type": "code",
      "metadata": {
        "id": "ctmEcI1brC4_",
        "colab": {
          "base_uri": "https://localhost:8080/"
        },
        "outputId": "260157f7-51ac-4db2-c9e0-3c819779277c"
      },
      "source": [
        "df_missouri.head"
      ],
      "execution_count": 256,
      "outputs": [
        {
          "output_type": "execute_result",
          "data": {
            "text/plain": [
              "<bound method NDFrame.head of            date  ... people_vaccinated_per_hundred\n",
              "9530 2021-01-12  ...                          1.76\n",
              "9531 2021-01-13  ...                          1.76\n",
              "9532 2021-01-14  ...                          2.37\n",
              "9533 2021-01-15  ...                          2.50\n",
              "9534 2021-01-16  ...                           NaN\n",
              "...         ...  ...                           ...\n",
              "9820 2021-10-31  ...                         56.93\n",
              "9821 2021-11-01  ...                         56.94\n",
              "9822 2021-11-02  ...                         56.98\n",
              "9823 2021-11-03  ...                         57.03\n",
              "9824 2021-11-04  ...                         57.10\n",
              "\n",
              "[295 rows x 4 columns]>"
            ]
          },
          "metadata": {},
          "execution_count": 256
        }
      ]
    },
    {
      "cell_type": "code",
      "metadata": {
        "id": "_gehfSSFADHS",
        "colab": {
          "base_uri": "https://localhost:8080/",
          "height": 337
        },
        "outputId": "39185c98-3707-40c0-b05f-91599d976f86"
      },
      "source": [
        "df_missouri['people_fully_vaccinated_per_hundred'].plot()"
      ],
      "execution_count": 257,
      "outputs": [
        {
          "output_type": "execute_result",
          "data": {
            "text/plain": [
              "<matplotlib.axes._subplots.AxesSubplot at 0x7fc9f32ec710>"
            ]
          },
          "metadata": {},
          "execution_count": 257
        },
        {
          "output_type": "display_data",
          "data": {
            "image/png": "[encoded data removed]",
            "text/plain": [
              "<Figure size 1080x360 with 1 Axes>"
            ]
          },
          "metadata": {
            "needs_background": "light"
          }
        }
      ]
    },
    {
      "cell_type": "code",
      "metadata": {
        "id": "E4rPLb_20tnL"
      },
      "source": [
        "# Dataset\n",
        "data = df_missouri['people_fully_vaccinated_per_hundred'].values.reshape(-1,1)"
      ],
      "execution_count": 258,
      "outputs": []
    },
    {
      "cell_type": "code",
      "metadata": {
        "id": "8OKiD2F9sI5M"
      },
      "source": [
        "data = df_missouri['people_fully_vaccinated_per_hundred'].values.reshape(-1,1)\n",
        "scaler = StandardScaler()\n",
        "data = scaler.fit_transform(data)"
      ],
      "execution_count": 259,
      "outputs": []
    },
    {
      "cell_type": "code",
      "metadata": {
        "id": "A7lW3oVAs9OK"
      },
      "source": [
        "model = ARIMA(data, order=(25,1,0))\n",
        "model = model.fit()"
      ],
      "execution_count": 260,
      "outputs": []
    },
    {
      "cell_type": "code",
      "metadata": {
        "id": "f65JD-Ky0C_p"
      },
      "source": [
        "# Number of days in the future to forecast\n",
        "num_days = 90"
      ],
      "execution_count": 261,
      "outputs": []
    },
    {
      "cell_type": "code",
      "metadata": {
        "id": "scinS38E0FqW"
      },
      "source": [
        "# Forecast total vaccinations for next 90 days\n",
        "results = model.predict(start=data.size, end=data.size+num_days-1, dunamic=True)\n",
        "results = scaler.inverse_transform(results.reshape(-1, 1))"
      ],
      "execution_count": 263,
      "outputs": []
    },
    {
      "cell_type": "code",
      "metadata": {
        "id": "QVHLTNNWjfJ5"
      },
      "source": [
        "start_date = df_missouri['date'].values[-1]\n",
        "start_date = np.datetime64(start_date) + np.timedelta64(1,'D')\n",
        "start_date = pd.to_datetime(str(start_date))\n",
        "start_date = start_date.strftime('%Y-%m-%d')"
      ],
      "execution_count": 264,
      "outputs": []
    },
    {
      "cell_type": "code",
      "metadata": {
        "id": "YadgS1vXTfDK"
      },
      "source": [
        "rng = pd.date_range(start_date, periods=90, freq='D')\n",
        "date_frame = pd.DataFrame({ 'Date': rng}) "
      ],
      "execution_count": 265,
      "outputs": []
    },
    {
      "cell_type": "code",
      "metadata": {
        "colab": {
          "base_uri": "https://localhost:8080/",
          "height": 337
        },
        "id": "lLmgKXcrWmlH",
        "outputId": "cc63e24e-cf2f-42ca-e1fb-7446f0851e38"
      },
      "source": [
        "plt.plot(date_frame,results)"
      ],
      "execution_count": 266,
      "outputs": [
        {
          "output_type": "execute_result",
          "data": {
            "text/plain": [
              "[<matplotlib.lines.Line2D at 0x7fc9f31f2750>]"
            ]
          },
          "metadata": {},
          "execution_count": 266
        },
        {
          "output_type": "display_data",
          "data": {
            "image/png": "[encoded data removed]",
            "text/plain": [
              "<Figure size 1080x360 with 1 Axes>"
            ]
          },
          "metadata": {
            "needs_background": "light"
          }
        }
      ]
    },
    {
      "cell_type": "code",
      "metadata": {
        "id": "nMFTDKucW48X"
      },
      "source": [
        "\n",
        "results_frame = pd.DataFrame(results, columns= ['results'])\n",
        "frame = [date_frame[\"Date\"], results_frame[\"results\"]]\n",
        "headers = [\"date_frame\", \"results_frame\"]\n",
        "\n",
        "final_df = pd.concat(frame, axis=1, keys=headers)\n",
        "final_df.to_csv('missouri.csv')\n",
        "\n"
      ],
      "execution_count": 268,
      "outputs": []
    }
  ]
}